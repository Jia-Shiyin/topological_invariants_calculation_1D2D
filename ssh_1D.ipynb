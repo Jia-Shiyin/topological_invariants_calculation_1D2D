{
 "cells": [
  {
   "cell_type": "code",
   "execution_count": 1,
   "metadata": {},
   "outputs": [],
   "source": [
    "import numpy as np\n",
    "import matplotlib.pyplot as plt\n",
    "from math import *   # 引入sqrt(), pi, exp等\n",
    "import cmath  # 要处理复数情况，用到cmath.exp(), 比np.快\n",
    "import time\n"
   ]
  },
  {
   "cell_type": "code",
   "execution_count": 2,
   "metadata": {},
   "outputs": [],
   "source": [
    "#定义哈密顿量和能带画图函数\n",
    "\n",
    "def hamiltonian(k):  # 1D-SSH模型哈密顿量   \n",
    "    matrix = np.zeros((2, 2))*(1+0j)   # 乘(1+0j)是为了把h0转为复数，也可dtype=complex\n",
    "    matrix[0,1] = w+v*cmath.exp(-1j*k)\n",
    "    matrix[1,0] = w+v*cmath.exp(1j*k)\n",
    "    matrix[0,0] = 0\n",
    "    matrix[1,1] = 0\n",
    "    return matrix\n",
    "\n",
    "\n",
    "def plot_bands_one_dimension(k, hamiltonian):\n",
    "    dim = hamiltonian(0).shape[0]\n",
    "    dim_k = k.shape[0]\n",
    "    eigenvalue_k = np.zeros((dim_k, dim))\n",
    "    i0 = 0\n",
    "    for k0 in k:\n",
    "        matrix0 = hamiltonian(k0)\n",
    "        eigenvalue, eigenvector = np.linalg.eig(matrix0)\n",
    "        eigenvalue_k[i0, :] = np.sort(np.real(eigenvalue[:]))\n",
    "        i0 += 1\n",
    "    for dim0 in range(dim):\n",
    "        plt.plot(k, eigenvalue_k[:, dim0], '-k')\n",
    "    plt.show()"
   ]
  },
  {
   "cell_type": "code",
   "execution_count": 3,
   "metadata": {},
   "outputs": [],
   "source": [
    "#计算卷绕数\n",
    "\n",
    "def winding_number():\n",
    "    delta_1 = 1e-9  # 求导的步长（求导的步长可以尽可能短,应小于积分步长，不能相等）\n",
    "    delta_2 = 1e-4  # 积分的步长（积分步长和计算时间相关，因此取一个合理值即可）\n",
    "    W = 0  # Winding number初始化\n",
    "    for k in np.arange(-pi, pi, delta_2):\n",
    "        H = hamiltonian(k)\n",
    "        log0 = cmath.log(H[0, 1])\n",
    "    \n",
    "        H_delta = hamiltonian(k+delta_1) \n",
    "        log1 = cmath.log(H_delta[0, 1])\n",
    "\n",
    "        W = W + (log1-log0)/delta_1*delta_2 # Winding number\n",
    "    W = W/2/pi/1j\n",
    "    return W"
   ]
  },
  {
   "cell_type": "code",
   "execution_count": 4,
   "metadata": {},
   "outputs": [],
   "source": [
    "#计算极化,即Zak phase/2/pi\n",
    "\n",
    "def get_occupied_bands_vectors(x, matrix):  \n",
    "    matrix0 = matrix(x)\n",
    "    eigenvalue, eigenvector = np.linalg.eig(matrix0) \n",
    "    vector = eigenvector[:, np.argsort(np.real(eigenvalue))[0]] \n",
    "    return vector\n",
    "\n",
    "\n",
    "def polarization():\n",
    "    Num_k = 101\n",
    "    k_array = np.linspace(-pi, pi, Num_k)\n",
    "    vector_array = []\n",
    "    for k in k_array:\n",
    "        vector  = get_occupied_bands_vectors(k, hamiltonian) \n",
    "        vector_array.append(vector)\n",
    "\n",
    "    # 计算Wilson loop\n",
    "    W_k = 1\n",
    "    for i0 in range(Num_k-1):\n",
    "        F = np.dot(vector_array[i0+1].transpose().conj(), vector_array[i0])\n",
    "        W_k = np.dot(F, W_k)\n",
    "    nu = np.log(W_k)/2/pi/1j\n",
    "    return nu"
   ]
  },
  {
   "cell_type": "code",
   "execution_count": null,
   "metadata": {},
   "outputs": [],
   "source": []
  },
  {
   "cell_type": "code",
   "execution_count": 5,
   "metadata": {},
   "outputs": [
    {
     "data": {
      "image/png": "[encoded data removed]",
      "text/plain": [
       "<Figure size 432x288 with 1 Axes>"
      ]
     },
     "metadata": {
      "needs_background": "light"
     },
     "output_type": "display_data"
    },
    {
     "name": "stdout",
     "output_type": "stream",
     "text": [
      "w = 1.00; v = 2.0000;         \n",
      "Winding number = -1.0000+0.0000j         \n",
      "Polarization = 0.5000+0.0092j\n",
      "CPU执行时间(min) = 0.012033531666666663\n"
     ]
    }
   ],
   "source": [
    "def main():    \n",
    "    k = np.linspace(-pi, pi, 101)\n",
    "    plot_bands_one_dimension(k, hamiltonian)\n",
    "    W = winding_number()\n",
    "    p = polarization()\n",
    "    print('w = {:.2f}; v = {:.4f}; \\\n",
    "        \\nWinding number = {:.4f} \\\n",
    "        \\nPolarization = {:.4f}'.format(w, v, W, p))\n",
    "\n",
    "if __name__ == '__main__':  # 在当前文件运行main()，被import不执行。\n",
    "    start_clock = time.perf_counter()\n",
    "    w = 1; v = 2\n",
    "    main()\n",
    "    end_clock = time.perf_counter()\n",
    "    print('CPU执行时间(min) =', (end_clock-start_clock)/60)"
   ]
  },
  {
   "cell_type": "code",
   "execution_count": 6,
   "metadata": {},
   "outputs": [],
   "source": [
    "def find_vector_without_excess_phase(vector_0):\n",
    "    angle = cmath.phase(vector_0[0])\n",
    "    vector_1 = vector_0*cmath.exp(-1j*angle)\n",
    "    return vector_1\n",
    "\n",
    "def polarization_row():  #定义法求极化\n",
    "    Num_k = 101\n",
    "    delta_k = 1e-9\n",
    "    k_array = np.linspace(-pi, pi, Num_k)\n",
    "    vector_array = []\n",
    "    W_k = 0\n",
    "    for k in k_array:\n",
    "        vector  = get_occupied_bands_vectors(k, hamiltonian)\n",
    "        vector = find_vector_without_excess_phase(vector)\n",
    "        vector_delta  = get_occupied_bands_vectors(k+delta_k, hamiltonian)\n",
    "        vector_delta = find_vector_without_excess_phase(vector_delta)\n",
    "        F = np.dot(vector.transpose().conj(), (vector_delta-vector)/delta_k)\n",
    "        W_k += F\n",
    "    nu = W_k/Num_k/1j\n",
    "    return nu"
   ]
  },
  {
   "cell_type": "code",
   "execution_count": null,
   "metadata": {},
   "outputs": [],
   "source": []
  },
  {
   "cell_type": "markdown",
   "metadata": {},
   "source": [
    " "
   ]
  },
  {
   "cell_type": "code",
   "execution_count": null,
   "metadata": {},
   "outputs": [],
   "source": []
  }
 ],
 "metadata": {
  "kernelspec": {
   "display_name": "Python 3",
   "language": "python",
   "name": "python3"
  },
  "language_info": {
   "codemirror_mode": {
    "name": "ipython",
    "version": 3
   },
   "file_extension": ".py",
   "mimetype": "text/x-python",
   "name": "python",
   "nbconvert_exporter": "python",
   "pygments_lexer": "ipython3",
   "version": "3.7.0"
  }
 },
 "nbformat": 4,
 "nbformat_minor": 2
}
