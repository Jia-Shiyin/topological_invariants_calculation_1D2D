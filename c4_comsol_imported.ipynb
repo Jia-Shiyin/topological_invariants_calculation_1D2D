{
 "cells": [
  {
   "cell_type": "code",
   "execution_count": 1,
   "metadata": {},
   "outputs": [],
   "source": [
    "import numpy as np\n",
    "import matplotlib.pyplot as plt\n",
    "from math import *   # 引入sqrt(), pi, exp等\n",
    "import cmath  # 要处理复数情况，用到cmath.exp(), 比np.快\n",
    "import time"
   ]
  },
  {
   "cell_type": "code",
   "execution_count": 2,
   "metadata": {},
   "outputs": [],
   "source": [
    "def find_vector_without_excess_phase(vector_0):  # 使波函数矢量第一分量为实数，同时归一化\n",
    "    angle = cmath.phase(vector_0[0])\n",
    "    vector_1 = vector_0*cmath.exp(-1j*angle)\n",
    "    vector_1 = vector_1/cmath.sqrt(np.dot(vector_1.transpose().conj(),vector_1))\n",
    "    return vector_1"
   ]
  },
  {
   "cell_type": "code",
   "execution_count": 3,
   "metadata": {},
   "outputs": [],
   "source": [
    "def get_data_kx_ky_Ez(route):                # 由数据文件得到kx,ky,Ez阵列\n",
    "    with open(route,'r') as file:\n",
    "        data_row = file.readlines()\n",
    "    data1 = data_row[8]   # 文字部分\n",
    "    data2 = data_row[9:]   # 数据部分\n",
    "    \n",
    "    #提取kx,ky\n",
    "    data = data1.split('@')[1:]\n",
    "    data = [item.split('=')[2:] for item in data]\n",
    "    k1 = [float(item[0].split(',')[0]) for item in data]\n",
    "    k2 = [float(item[1].split()[0]) for item in data]\n",
    "    for i in range(1,len(k1)):\n",
    "        if k1[i] != k1[0]:\n",
    "            break\n",
    "    kx = np.array(k1[::i])\n",
    "    ky = np.array(k2[:i])\n",
    "    kx_num = kx.shape[0] \n",
    "    ky_num = ky.shape[0]\n",
    "    \n",
    "    # ， 提取Ez\n",
    "    data = [item.split()[2:] for item in data2]\n",
    "    vector_len = len(data)\n",
    "    Ez = np.zeros((kx_num,ky_num,vector_len),dtype=complex)\n",
    "    \n",
    "    for j in range(len(data[0])):   # len(data[0]) = kx_num * ky_num\n",
    "        for i in range(vector_len):        \n",
    "            try:\n",
    "                Ez[j//ky_num][j%ky_num][i] = complex(data[i][j])\n",
    "            except:\n",
    "                Ez[j//ky_num][j%ky_num][i] = complex(data[i][j][:-1]+'j')  # Python中复数用j而不是i，直接转换会报错\n",
    "                       \n",
    "    for i in range(kx_num):\n",
    "        for j in range(ky_num):\n",
    "            v = Ez[i][j]\n",
    "            v = find_vector_without_excess_phase(v)\n",
    "            Ez[i][j] = v\n",
    "       \n",
    "    return kx, ky, Ez\n",
    "\n"
   ]
  },
  {
   "cell_type": "code",
   "execution_count": 4,
   "metadata": {},
   "outputs": [],
   "source": [
    "def Polarization():        # 定义公式推导近似后方法,可以在整个布里渊区积分，也可以对固定的某个ky积kx，不影响结果\n",
    "    z = 1\n",
    "    kx, ky, Ez = get_data_kx_ky_Ez(route1)\n",
    "    for i in range(kx.shape[0]-1):\n",
    "        for j in range(ky.shape[0]):\n",
    "            A_x = np.dot(Ez[i][j].transpose().conj(),Ez[i+1][j])    \n",
    "            z = np.dot(z,A_x)    \n",
    "    z = np.log(z)/2/pi/1j\n",
    "    return z     "
   ]
  },
  {
   "cell_type": "code",
   "execution_count": 5,
   "metadata": {},
   "outputs": [],
   "source": [
    "def Polarization_row():        # 定义法，需要两个扫频靠近的电场文件\n",
    "    z = 0\n",
    "    kx, ky, Ez = get_data_kx_ky_Ez(route1)\n",
    "    kx_delta,ky_delta,Ez_delta = get_data_kx_ky_Ez(route2)\n",
    "    delta = 2*pi*(kx_delta[0]-kx[0])\n",
    "    for i in range(kx.shape[0]):\n",
    "        for j in range(ky.shape[0]):\n",
    "            A_x = np.dot(Ez[i][j].transpose().conj(),(Ez_delta[i][j]-Ez[i][j])/delta)   # Berry conection 的x分量\n",
    "            #if i%5 == 0 and j%5 == 0:\n",
    "                #print(A_x)\n",
    "            z = z + A_x/kx.shape[0]/ky.shape[0]/1j\n",
    "    return z"
   ]
  },
  {
   "cell_type": "markdown",
   "metadata": {},
   "source": []
  },
  {
   "cell_type": "code",
   "execution_count": 6,
   "metadata": {},
   "outputs": [
    {
     "name": "stdout",
     "output_type": "stream",
     "text": [
      "Zak phase = -1.00+2.21j pi \n",
      "Polarization = -0.50+1.11j\n"
     ]
    }
   ],
   "source": [
    "# 经尝试，方格子元胞k空间取20*20个点左右，Ez数据山哥导出，4*2个点（2*2也行，影响不大）\n",
    "def main():\n",
    "    z = Polarization()\n",
    "    print('Zak phase = {:.2f} pi \\nPolarization = {:.2f}'.format(z*2,z))\n",
    "    \n",
    "if __name__ == '__main__'\n",
    "    route1 = 'd:/物理/拓扑/拓扑数计算python代码/数据/c4_expand_1.txt'        # 数字为能带标号，路径要修改，放在同一文件夹下不写绝对路径即可\n",
    "    #route1 = 'd:/物理/拓扑/拓扑数计算python代码/数据/扩张0.txt'    \n",
    "    #route2 = 'd:/物理/拓扑/拓扑数计算python代码/数据/扩张0_delta.txt'         # 如果使用定义法，则需替换为这两条\n",
    "    main()"
   ]
  },
  {
   "cell_type": "code",
   "execution_count": null,
   "metadata": {},
   "outputs": [],
   "source": []
  },
  {
   "cell_type": "code",
   "execution_count": null,
   "metadata": {},
   "outputs": [],
   "source": []
  },
  {
   "cell_type": "code",
   "execution_count": null,
   "metadata": {},
   "outputs": [],
   "source": []
  }
 ],
 "metadata": {
  "kernelspec": {
   "display_name": "Python 3",
   "language": "python",
   "name": "python3"
  },
  "language_info": {
   "codemirror_mode": {
    "name": "ipython",
    "version": 3
   },
   "file_extension": ".py",
   "mimetype": "text/x-python",
   "name": "python",
   "nbconvert_exporter": "python",
   "pygments_lexer": "ipython3",
   "version": "3.7.0"
  }
 },
 "nbformat": 4,
 "nbformat_minor": 2
}
