{
 "cells": [
  {
   "cell_type": "code",
   "execution_count": 1,
   "metadata": {},
   "outputs": [],
   "source": [
    "import numpy as np\n",
    "import matplotlib.pyplot as plt\n",
    "from math import *   # 引入sqrt(), pi, exp等\n",
    "import cmath  # 要处理复数情况，用到cmath.exp(), 比np.快\n",
    "import time"
   ]
  },
  {
   "cell_type": "code",
   "execution_count": 27,
   "metadata": {},
   "outputs": [],
   "source": [
    "def hamiltonian(kx, ky):\n",
    "    p = np.zeros((4,4))*(1+1j)\n",
    "    p[0,1] = w + v*cmath.exp(-kx*1j)\n",
    "    p[2,3] = w + v*cmath.exp(-kx*1j)\n",
    "    p[0,2] = w + v*cmath.exp(-ky*1j)\n",
    "    p[1,3] = w + v*cmath.exp(-ky*1j)\n",
    "    p[1,0] = w + v*cmath.exp(kx*1j)\n",
    "    p[3,2] = w + v*cmath.exp(kx*1j)\n",
    "    p[2,0] = w + v*cmath.exp(ky*1j)\n",
    "    p[3,1] = w + v*cmath.exp(ky*1j)\n",
    "    return p\n",
    "\n",
    "\n",
    "def plot_bands_two_dimension(hamiltonian):\n",
    "    dim = hamiltonian(0,0).shape[0]\n",
    "    kxky = np.arange(0,2+np.sqrt(2),0.02)\n",
    "    dim_k = kxky.shape[0]\n",
    "    eigenvalue_k = np.zeros((dim_k,dim))\n",
    "    for i in range(dim_k):\n",
    "        xy = kxky[i]\n",
    "        k1 = (xy<=1) + (xy>1)*(xy<2)*(xy-2) + (xy>=2)*(xy-2)/np.sqrt(2)\n",
    "        kx = k1*np.pi\n",
    "        k2 = (xy<=1)*(1-xy) + (xy>=2)*(xy-2)/np.sqrt(2)\n",
    "        ky = k2*np.pi\n",
    "        matrix0 = hamiltonian(kx,ky)\n",
    "        eigenvalue, eigenvector = np.linalg.eig(matrix0)\n",
    "        eigenvalue_k[i, :] = np.sort(np.real(eigenvalue[:]))\n",
    "    for dim0 in range(dim):\n",
    "        plt.plot(kxky, eigenvalue_k[:, dim0], '-k')\n",
    "    plt.show()\n",
    "    \n",
    "    \n",
    "\n",
    "def find_vector_without_excess_phase(vector_0):\n",
    "    angle = cmath.phase(vector_0[0])\n",
    "    vector_1 = vector_0*cmath.exp(-1j*angle)\n",
    "    return vector_1\n",
    "\n",
    "\n",
    "def chern_number_and_z():\n",
    "    n = 100  # 积分密度\n",
    "    delta = 1e-9  # 求导的偏离量\n",
    "    chern_number = 0  # 陈数初始化\n",
    "    z = 0\n",
    "    #AA = []\n",
    "    for kx in np.arange(-pi, pi, 2*pi/n):\n",
    "        for ky in np.arange(-pi, pi, 2*pi/n):\n",
    "            H = hamiltonian(kx, ky)\n",
    "            eigenvalue, eigenvector = np.linalg.eig(H)\n",
    "            vector = eigenvector[:, np.argsort(np.real(eigenvalue))[0]]  # 价带波函数\n",
    "            vector = find_vector_without_excess_phase(vector)\n",
    "            # print(np.argsort(np.real(eigenvalue))[0])  # 排序索引（从小到大）\n",
    "            # print(eigenvalue)  # 排序前的本征值\n",
    "            # print(np.sort(np.real(eigenvalue)))  # 排序后的本征值（从小到大）\n",
    "           \n",
    "            H_delta_kx = hamiltonian(kx+delta, ky) \n",
    "            eigenvalue, eigenvector = np.linalg.eig(H_delta_kx)\n",
    "            vector_delta_kx = eigenvector[:, np.argsort(np.real(eigenvalue))[0]]   # 略偏离kx的波函数\n",
    "            vector_delta_kx = find_vector_without_excess_phase(vector_delta_kx)\n",
    "\n",
    "            H_delta_ky = hamiltonian(kx, ky+delta)  \n",
    "            eigenvalue, eigenvector = np.linalg.eig(H_delta_ky)\n",
    "            vector_delta_ky = eigenvector[:, np.argsort(np.real(eigenvalue))[0]]  # 略偏离ky的波函数\n",
    "            vector_delta_ky = find_vector_without_excess_phase(vector_delta_ky)\n",
    "\n",
    "            H_delta_kx_ky = hamiltonian(kx+delta, ky+delta)  \n",
    "            eigenvalue, eigenvector = np.linalg.eig(H_delta_kx_ky)\n",
    "            vector_delta_kx_ky = eigenvector[:, np.argsort(np.real(eigenvalue))[0]]  # 略偏离kx和ky的波函数\n",
    "            vector_delta_kx_ky = find_vector_without_excess_phase(vector_delta_kx_ky)\n",
    "\n",
    "            # 价带的波函数的贝里联络(berry connection) # 求导后内积\n",
    "            A_x = np.dot(vector.transpose().conj(), (vector_delta_kx-vector)/delta)   # 贝里联络Ax（x分量）\n",
    "            A_y = np.dot(vector.transpose().conj(), (vector_delta_ky-vector)/delta)   # 贝里联络Ay（y分量）\n",
    "            \n",
    "            A_x_delta_ky = np.dot(vector_delta_ky.transpose().conj(), (vector_delta_kx_ky-vector_delta_ky)/delta)  # 略偏离ky的贝里联络Ax\n",
    "            A_y_delta_kx = np.dot(vector_delta_kx.transpose().conj(), (vector_delta_kx_ky-vector_delta_kx)/delta)  # 略偏离kx的贝里联络Ay\n",
    "\n",
    "            # 贝里曲率(berry curvature)\n",
    "            F = (A_y_delta_kx-A_y)/delta-(A_x_delta_ky-A_x)/delta\n",
    "\n",
    "            # 陈数(chern number)\n",
    "            chern_number = chern_number + F*(2*pi/n)**2\n",
    "            z = z + A_x/n/n/1j\n",
    "            #AA.append(A_x.imag)\n",
    "    #plt.imshow(np.array(AA).reshape((100,100)))\n",
    "    #np.savetxt('aaa.txt',AA)\n",
    "    chern_number = chern_number/(2*pi*1j)\n",
    "    \n",
    "    return chern_number, z\n",
    "\n"
   ]
  },
  {
   "cell_type": "code",
   "execution_count": 28,
   "metadata": {},
   "outputs": [
    {
     "data": {
      "image/png": "[encoded data removed]",
      "text/plain": [
       "<Figure size 432x288 with 1 Axes>"
      ]
     },
     "metadata": {
      "needs_background": "light"
     },
     "output_type": "display_data"
    },
    {
     "name": "stdout",
     "output_type": "stream",
     "text": [
      "  w = 1, v = 2\n",
      "  Chern number = -0.0000-0.0000j \n",
      "  z = 1.0000-0.0000j pi \n",
      "  Polarization = 0.50000003-0.00000000j\n",
      "  运行时间(min)= 0.05510308345158895\n"
     ]
    },
    {
     "data": {
      "image/png": "[encoded data removed]",
      "text/plain": [
       "<Figure size 432x288 with 1 Axes>"
      ]
     },
     "metadata": {
      "needs_background": "light"
     },
     "output_type": "display_data"
    }
   ],
   "source": [
    "def main():\n",
    "    start_time = time.time()\n",
    "    plot_bands_two_dimension(hamiltonian)\n",
    "    print('  w = {}, v = {}'.format(w,v))\n",
    "    c, z = chern_number_and_z()                  \n",
    "    print('  Chern number = {:.4f} \\n  z = {:.4f} pi \\n  Polarization = {:.8f}'.format(c,z*2,z))\n",
    "    end_time = time.time()\n",
    "    print('  运行时间(min)=', (end_time-start_time)/60)\n",
    "\n",
    "\n",
    "if __name__ == '__main__':\n",
    "    w = 1\n",
    "    v = 2\n",
    "    main()"
   ]
  },
  {
   "cell_type": "code",
   "execution_count": null,
   "metadata": {},
   "outputs": [],
   "source": [
    "\n"
   ]
  },
  {
   "cell_type": "code",
   "execution_count": 4,
   "metadata": {},
   "outputs": [],
   "source": [
    "#尝试另一种算法\n",
    "\n",
    "def Polarization():\n",
    "    start_time = time.time()\n",
    "    n = 101  # 积分密度\n",
    "    z = 1\n",
    "    k_array = np.linspace(-pi,pi,n)\n",
    "    vector_array = np.zeros((n,n,4),dtype=complex)\n",
    "    for j in np.arange(n):\n",
    "        for i in np.arange(n):\n",
    "            kx = k_array[i]\n",
    "            ky = k_array[j]\n",
    "            H = hamiltonian(kx, ky)\n",
    "            eigenvalue, eigenvector = np.linalg.eig(H)\n",
    "            vector = eigenvector[:, np.argsort(np.real(eigenvalue))[0]]  # 价带波函数\n",
    "            vector = find_vector_without_excess_phase(vector)\n",
    "            vector_array[i][j] = vector\n",
    "    \n",
    "    for j in np.arange(n):\n",
    "        for i in np.arange(n-1):\n",
    "            A_x = np.dot(vector_array[i+1][j].transpose().conj(), vector_array[i][j])  # 贝里联络Ax（x分量）        \n",
    "            z = np.dot(A_x,z)\n",
    "            \n",
    "    z = np.log(z)/2/pi/1j\n",
    "            \n",
    "    return z\n",
    "\n",
    "#print('Polarization = {:.8f}'.format(Polarization()))"
   ]
  },
  {
   "cell_type": "code",
   "execution_count": 5,
   "metadata": {},
   "outputs": [],
   "source": [
    "# 陈数计算，高效法\n",
    "\n",
    "def main():\n",
    "    start_time = time.time()\n",
    "    n = 100 \n",
    "    delta = 2*pi/n\n",
    "    chern_number = 0  # 陈数初始化\n",
    "    for kx in np.arange(-pi, pi, 2*pi/n):\n",
    "        for ky in np.arange(-pi, pi, 2*pi/n):\n",
    "            H = hamiltonian(kx, ky)\n",
    "            eigenvalue, eigenvector = np.linalg.eig(H)\n",
    "            vector = eigenvector[:, np.argsort(np.real(eigenvalue))[0]]  # 价带波函数\n",
    "           \n",
    "            H_delta_kx = hamiltonian(kx+delta, ky) \n",
    "            eigenvalue, eigenvector = np.linalg.eig(H_delta_kx)\n",
    "            vector_delta_kx = eigenvector[:, np.argsort(np.real(eigenvalue))[0]]   # 略偏离kx的波函数\n",
    "\n",
    "            H_delta_ky = hamiltonian(kx, ky+delta)  \n",
    "            eigenvalue, eigenvector = np.linalg.eig(H_delta_ky)\n",
    "            vector_delta_ky = eigenvector[:, np.argsort(np.real(eigenvalue))[0]]  # 略偏离ky的波函数\n",
    "            \n",
    "            H_delta_kx_ky = hamiltonian(kx+delta, ky+delta)  \n",
    "            eigenvalue, eigenvector = np.linalg.eig(H_delta_kx_ky)\n",
    "            vector_delta_kx_ky = eigenvector[:, np.argsort(np.real(eigenvalue))[0]]  # 略偏离kx和ky的波函数\n",
    "            \n",
    "            Ux = np.dot(np.conj(vector), vector_delta_kx)/abs(np.dot(np.conj(vector), vector_delta_kx))\n",
    "            Uy = np.dot(np.conj(vector), vector_delta_ky)/abs(np.dot(np.conj(vector), vector_delta_ky))\n",
    "            Ux_y = np.dot(np.conj(vector_delta_ky), vector_delta_kx_ky)/abs(np.dot(np.conj(vector_delta_ky), vector_delta_kx_ky))\n",
    "            Uy_x = np.dot(np.conj(vector_delta_kx), vector_delta_kx_ky)/abs(np.dot(np.conj(vector_delta_kx), vector_delta_kx_ky))\n",
    "\n",
    "            F = cmath.log(Ux*Uy_x*(1/Ux_y)*(1/Uy))\n",
    "\n",
    "            # 陈数(chern number)\n",
    "            chern_number = chern_number + F\n",
    "    chern_number = chern_number/(2*pi*1j)\n",
    "    print('Chern number = ', chern_number)\n",
    "    end_time = time.time()\n",
    "    print('运行时间(min)=', (end_time-start_time)/60)\n"
   ]
  }
 ],
 "metadata": {
  "kernelspec": {
   "display_name": "Python 3.7.0 ('base')",
   "language": "python",
   "name": "python3"
  },
  "language_info": {
   "codemirror_mode": {
    "name": "ipython",
    "version": 3
   },
   "file_extension": ".py",
   "mimetype": "text/x-python",
   "name": "python",
   "nbconvert_exporter": "python",
   "pygments_lexer": "ipython3",
   "version": "3.7.0"
  },
  "vscode": {
   "interpreter": {
    "hash": "973694a7d87c56394bce4d497a037a1ca01f9784ee935f19803e7747a9bf8044"
   }
  }
 },
 "nbformat": 4,
 "nbformat_minor": 2
}
